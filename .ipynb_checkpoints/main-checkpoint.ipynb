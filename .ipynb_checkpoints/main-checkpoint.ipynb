{
 "cells": [
  {
   "cell_type": "code",
   "execution_count": 5,
   "id": "eb9a1519-3a71-47aa-86e2-da653b4d9326",
   "metadata": {},
   "outputs": [],
   "source": [
    "# import packages\n",
    "import pandas as pd\n",
    "import numpy as np"
   ]
  },
  {
   "cell_type": "code",
   "execution_count": 2,
   "id": "b49c01e9-6e9d-448e-9038-63e901864d00",
   "metadata": {},
   "outputs": [
    {
     "data": {
      "text/html": [
       "<div>\n",
       "<style scoped>\n",
       "    .dataframe tbody tr th:only-of-type {\n",
       "        vertical-align: middle;\n",
       "    }\n",
       "\n",
       "    .dataframe tbody tr th {\n",
       "        vertical-align: top;\n",
       "    }\n",
       "\n",
       "    .dataframe thead th {\n",
       "        text-align: right;\n",
       "    }\n",
       "</style>\n",
       "<table border=\"1\" class=\"dataframe\">\n",
       "  <thead>\n",
       "    <tr style=\"text-align: right;\">\n",
       "      <th></th>\n",
       "      <th>time</th>\n",
       "      <th>cog</th>\n",
       "      <th>sog</th>\n",
       "      <th>rot</th>\n",
       "      <th>heading</th>\n",
       "      <th>navstat</th>\n",
       "      <th>etaRaw</th>\n",
       "      <th>latitude</th>\n",
       "      <th>longitude</th>\n",
       "      <th>vesselId</th>\n",
       "      <th>portId</th>\n",
       "    </tr>\n",
       "  </thead>\n",
       "  <tbody>\n",
       "    <tr>\n",
       "      <th>0</th>\n",
       "      <td>2024-01-01 00:00:25</td>\n",
       "      <td>284.0</td>\n",
       "      <td>0.7</td>\n",
       "      <td>0</td>\n",
       "      <td>88</td>\n",
       "      <td>0</td>\n",
       "      <td>01-09 23:00</td>\n",
       "      <td>-34.74370</td>\n",
       "      <td>-57.85130</td>\n",
       "      <td>61e9f3a8b937134a3c4bfdf7</td>\n",
       "      <td>61d371c43aeaecc07011a37f</td>\n",
       "    </tr>\n",
       "    <tr>\n",
       "      <th>1</th>\n",
       "      <td>2024-01-01 00:00:36</td>\n",
       "      <td>109.6</td>\n",
       "      <td>0.0</td>\n",
       "      <td>-6</td>\n",
       "      <td>347</td>\n",
       "      <td>1</td>\n",
       "      <td>12-29 20:00</td>\n",
       "      <td>8.89440</td>\n",
       "      <td>-79.47939</td>\n",
       "      <td>61e9f3d4b937134a3c4bff1f</td>\n",
       "      <td>634c4de270937fc01c3a7689</td>\n",
       "    </tr>\n",
       "    <tr>\n",
       "      <th>2</th>\n",
       "      <td>2024-01-01 00:01:45</td>\n",
       "      <td>111.0</td>\n",
       "      <td>11.0</td>\n",
       "      <td>0</td>\n",
       "      <td>112</td>\n",
       "      <td>0</td>\n",
       "      <td>01-02 09:00</td>\n",
       "      <td>39.19065</td>\n",
       "      <td>-76.47567</td>\n",
       "      <td>61e9f436b937134a3c4c0131</td>\n",
       "      <td>61d3847bb7b7526e1adf3d19</td>\n",
       "    </tr>\n",
       "    <tr>\n",
       "      <th>3</th>\n",
       "      <td>2024-01-01 00:03:11</td>\n",
       "      <td>96.4</td>\n",
       "      <td>0.0</td>\n",
       "      <td>0</td>\n",
       "      <td>142</td>\n",
       "      <td>1</td>\n",
       "      <td>12-31 20:00</td>\n",
       "      <td>-34.41189</td>\n",
       "      <td>151.02067</td>\n",
       "      <td>61e9f3b4b937134a3c4bfe77</td>\n",
       "      <td>61d36f770a1807568ff9a126</td>\n",
       "    </tr>\n",
       "    <tr>\n",
       "      <th>4</th>\n",
       "      <td>2024-01-01 00:03:51</td>\n",
       "      <td>214.0</td>\n",
       "      <td>19.7</td>\n",
       "      <td>0</td>\n",
       "      <td>215</td>\n",
       "      <td>0</td>\n",
       "      <td>01-25 12:00</td>\n",
       "      <td>35.88379</td>\n",
       "      <td>-5.91636</td>\n",
       "      <td>61e9f41bb937134a3c4c0087</td>\n",
       "      <td>634c4de270937fc01c3a74f3</td>\n",
       "    </tr>\n",
       "  </tbody>\n",
       "</table>\n",
       "</div>"
      ],
      "text/plain": [
       "                  time    cog   sog  rot  heading  navstat       etaRaw  \\\n",
       "0  2024-01-01 00:00:25  284.0   0.7    0       88        0  01-09 23:00   \n",
       "1  2024-01-01 00:00:36  109.6   0.0   -6      347        1  12-29 20:00   \n",
       "2  2024-01-01 00:01:45  111.0  11.0    0      112        0  01-02 09:00   \n",
       "3  2024-01-01 00:03:11   96.4   0.0    0      142        1  12-31 20:00   \n",
       "4  2024-01-01 00:03:51  214.0  19.7    0      215        0  01-25 12:00   \n",
       "\n",
       "   latitude  longitude                  vesselId                    portId  \n",
       "0 -34.74370  -57.85130  61e9f3a8b937134a3c4bfdf7  61d371c43aeaecc07011a37f  \n",
       "1   8.89440  -79.47939  61e9f3d4b937134a3c4bff1f  634c4de270937fc01c3a7689  \n",
       "2  39.19065  -76.47567  61e9f436b937134a3c4c0131  61d3847bb7b7526e1adf3d19  \n",
       "3 -34.41189  151.02067  61e9f3b4b937134a3c4bfe77  61d36f770a1807568ff9a126  \n",
       "4  35.88379   -5.91636  61e9f41bb937134a3c4c0087  634c4de270937fc01c3a74f3  "
      ]
     },
     "execution_count": 2,
     "metadata": {},
     "output_type": "execute_result"
    }
   ],
   "source": [
    "# import data\n",
    "X_train = pd.read_csv(\"Project_materials/ais_train.csv\", delimiter='|')\n",
    "X_test = pd.read_csv(\"Project_materials/ais_train.csv\", delimiter='|')\n",
    "X_train.head()"
   ]
  },
  {
   "cell_type": "code",
   "execution_count": 3,
   "id": "0066e197-5eac-44ba-a854-f640c3696e89",
   "metadata": {},
   "outputs": [
    {
     "name": "stdout",
     "output_type": "stream",
     "text": [
      "405\n"
     ]
    },
    {
     "data": {
      "text/plain": [
       "(1522065, 11)"
      ]
     },
     "execution_count": 3,
     "metadata": {},
     "output_type": "execute_result"
    }
   ],
   "source": [
    "df=X_train.copy()\n",
    "# 2. sog\n",
    "# many of these have value 0, like half of the observations, while very few (only 405) have value above 100\n",
    "# none have value 1023 -> no missing values!\n",
    "print(df[df.sog>=100].sog.count())\n",
    "df.shape\n",
    "#df.head()"
   ]
  },
  {
   "cell_type": "code",
   "execution_count": 4,
   "id": "5103e156-0f61-4988-ba5f-9194f836dc4a",
   "metadata": {},
   "outputs": [
    {
     "name": "stdout",
     "output_type": "stream",
     "text": [
      "4895\n",
      "0\n"
     ]
    }
   ],
   "source": [
    "# 4. heading\n",
    "print(df[df.heading==511].heading.count())\n",
    "# df[df.heading=511].heading didn't work, creates a copy of the dataframe, not the dataframe itself\n",
    "# 4895 missing values\n",
    "df.loc[df.heading==511, \"heading\"]=np.nan\n",
    "print(df[df.heading==511].heading.count())"
   ]
  },
  {
   "cell_type": "code",
   "execution_count": 5,
   "id": "27eea1cb-fd34-4baa-9750-77327bf33656",
   "metadata": {},
   "outputs": [
    {
     "data": {
      "text/plain": [
       "0    01-09 23:00\n",
       "1    12-29 20:00\n",
       "2    01-02 09:00\n",
       "3    12-31 20:00\n",
       "4    01-25 12:00\n",
       "Name: etaRaw, dtype: object"
      ]
     },
     "execution_count": 5,
     "metadata": {},
     "output_type": "execute_result"
    }
   ],
   "source": [
    "# 6. etaraw\n",
    "df.etaRaw.head()\n",
    "# dates and times, won't touch it for now"
   ]
  },
  {
   "cell_type": "code",
   "execution_count": 6,
   "id": "67e59704-f360-4476-99d3-21e604d8c5d1",
   "metadata": {},
   "outputs": [
    {
     "data": {
      "text/plain": [
       "0"
      ]
     },
     "execution_count": 6,
     "metadata": {},
     "output_type": "execute_result"
    }
   ],
   "source": [
    "# 8. longitude\n",
    "# no missing values\n",
    "df[df.longitude==181].longitude.count()"
   ]
  },
  {
   "cell_type": "code",
   "execution_count": 13,
   "id": "549648b2-26fc-479e-8880-a5a5617bba61",
   "metadata": {},
   "outputs": [
    {
     "name": "stdout",
     "output_type": "stream",
     "text": [
      "1615\n",
      "772\n",
      "                        time    cog   sog  rot  heading  navstat       etaRaw  \\\n",
      "33       2024-01-01 00:13:51  257.0   0.0    0    257.0        5  12-31 05:00   \n",
      "195      2024-01-01 00:35:00  257.0   0.0    0    257.0        5  12-31 05:00   \n",
      "359      2024-01-01 00:56:08  257.0   0.0    0    257.0        5  12-31 05:00   \n",
      "523      2024-01-01 01:17:20  256.0   0.0    0    256.0        5  12-31 05:00   \n",
      "608      2024-01-01 01:35:27  256.0   0.0    0    256.0        5  12-31 05:00   \n",
      "...                      ...    ...   ...  ...      ...      ...          ...   \n",
      "1279313  2024-04-18 00:36:16  145.6   0.0   -5     18.0        5  04-17 19:00   \n",
      "1279505  2024-04-18 00:57:15  265.0   0.0   -5     18.0        5  04-17 19:00   \n",
      "1279611  2024-04-18 01:15:16  200.2   0.0    0     18.0        5  04-17 19:00   \n",
      "1429638  2024-04-30 06:56:35  117.6   7.6  127    119.0        0  04-29 19:50   \n",
      "1429829  2024-04-30 07:17:55  175.3  12.4  127    178.0        0  04-29 19:50   \n",
      "\n",
      "         latitude  longitude                   vesselId portId  \n",
      "33       51.34443    3.22002  clh6aqawa0006gh0zje911dl3    NaN  \n",
      "195      51.34443    3.22000  clh6aqawa0006gh0zje911dl3    NaN  \n",
      "359      51.34443    3.22001  clh6aqawa0006gh0zje911dl3    NaN  \n",
      "523      51.34442    3.22000  clh6aqawa0006gh0zje911dl3    NaN  \n",
      "608      51.34442    3.22000  clh6aqawa0006gh0zje911dl3    NaN  \n",
      "...           ...        ...                        ...    ...  \n",
      "1279313  53.94311   10.86149   61e9f465b937134a3c4c0269    NaN  \n",
      "1279505  53.94312   10.86149   61e9f465b937134a3c4c0269    NaN  \n",
      "1279611  53.94312   10.86149   61e9f465b937134a3c4c0269    NaN  \n",
      "1429638  34.69830  135.29398   61e9f393b937134a3c4bfd9d    NaN  \n",
      "1429829  34.64212  135.31899   61e9f393b937134a3c4bfd9d    NaN  \n",
      "\n",
      "[1615 rows x 11 columns]\n"
     ]
    }
   ],
   "source": [
    "# 10 portId\n",
    "# 1615 missing values values, not sure why, not even sure what form they have\n",
    "print(df.shape[0]-df.portId.count())\n",
    "# 772 unique values, unique ports\n",
    "print(df.portId.nunique())\n",
    "null_values=df[df[\"portId\"].isnull()]\n",
    "print(null_values)\n",
    "#it's good that I found the values at least lol"
   ]
  },
  {
   "cell_type": "code",
   "execution_count": 7,
   "id": "7d129454-41cf-43b9-88de-33facabddc4d",
   "metadata": {},
   "outputs": [],
   "source": [
    "ports=pd.read_csv(\"Project_materials/ports.csv\", delimiter='|')\n",
    "df=ports.copy()"
   ]
  },
  {
   "cell_type": "code",
   "execution_count": 11,
   "id": "79fa6cb5-85be-4cf2-8ceb-e29017371473",
   "metadata": {},
   "outputs": [
    {
     "data": {
      "text/html": [
       "<div>\n",
       "<style scoped>\n",
       "    .dataframe tbody tr th:only-of-type {\n",
       "        vertical-align: middle;\n",
       "    }\n",
       "\n",
       "    .dataframe tbody tr th {\n",
       "        vertical-align: top;\n",
       "    }\n",
       "\n",
       "    .dataframe thead th {\n",
       "        text-align: right;\n",
       "    }\n",
       "</style>\n",
       "<table border=\"1\" class=\"dataframe\">\n",
       "  <thead>\n",
       "    <tr style=\"text-align: right;\">\n",
       "      <th></th>\n",
       "      <th>portId</th>\n",
       "      <th>name</th>\n",
       "      <th>portLocation</th>\n",
       "      <th>longitude</th>\n",
       "      <th>latitude</th>\n",
       "      <th>UN_LOCODE</th>\n",
       "      <th>countryName</th>\n",
       "      <th>ISO</th>\n",
       "    </tr>\n",
       "  </thead>\n",
       "  <tbody>\n",
       "    <tr>\n",
       "      <th>0</th>\n",
       "      <td>61d36ed80a1807568ff9a064</td>\n",
       "      <td>Port of Algiers</td>\n",
       "      <td>Algiers</td>\n",
       "      <td>3.067222</td>\n",
       "      <td>36.773611</td>\n",
       "      <td>DZALG</td>\n",
       "      <td>Algeria</td>\n",
       "      <td>DZ</td>\n",
       "    </tr>\n",
       "    <tr>\n",
       "      <th>1</th>\n",
       "      <td>61d36ed80a1807568ff9a065</td>\n",
       "      <td>Port of Annaba</td>\n",
       "      <td>Annaba</td>\n",
       "      <td>7.772500</td>\n",
       "      <td>36.900556</td>\n",
       "      <td>DZAAE</td>\n",
       "      <td>Algeria</td>\n",
       "      <td>DZ</td>\n",
       "    </tr>\n",
       "    <tr>\n",
       "      <th>2</th>\n",
       "      <td>61d36edf0a1807568ff9a070</td>\n",
       "      <td>Port of Oran</td>\n",
       "      <td>Oran</td>\n",
       "      <td>-0.639722</td>\n",
       "      <td>35.712222</td>\n",
       "      <td>DZORN</td>\n",
       "      <td>Algeria</td>\n",
       "      <td>DZ</td>\n",
       "    </tr>\n",
       "    <tr>\n",
       "      <th>3</th>\n",
       "      <td>61d36ee00a1807568ff9a072</td>\n",
       "      <td>Port of Skikda</td>\n",
       "      <td>Skikda</td>\n",
       "      <td>6.905833</td>\n",
       "      <td>36.887500</td>\n",
       "      <td>DZSKI</td>\n",
       "      <td>Algeria</td>\n",
       "      <td>DZ</td>\n",
       "    </tr>\n",
       "    <tr>\n",
       "      <th>4</th>\n",
       "      <td>61d36ee10a1807568ff9a074</td>\n",
       "      <td>Port of Pago-Pago</td>\n",
       "      <td>Pago-Pago</td>\n",
       "      <td>-170.690556</td>\n",
       "      <td>-14.274167</td>\n",
       "      <td>ASPPG</td>\n",
       "      <td>American Samoa</td>\n",
       "      <td>AS</td>\n",
       "    </tr>\n",
       "  </tbody>\n",
       "</table>\n",
       "</div>"
      ],
      "text/plain": [
       "                     portId               name portLocation   longitude  \\\n",
       "0  61d36ed80a1807568ff9a064    Port of Algiers      Algiers    3.067222   \n",
       "1  61d36ed80a1807568ff9a065     Port of Annaba       Annaba    7.772500   \n",
       "2  61d36edf0a1807568ff9a070       Port of Oran         Oran   -0.639722   \n",
       "3  61d36ee00a1807568ff9a072     Port of Skikda       Skikda    6.905833   \n",
       "4  61d36ee10a1807568ff9a074  Port of Pago-Pago    Pago-Pago -170.690556   \n",
       "\n",
       "    latitude UN_LOCODE     countryName ISO  \n",
       "0  36.773611     DZALG         Algeria  DZ  \n",
       "1  36.900556     DZAAE         Algeria  DZ  \n",
       "2  35.712222     DZORN         Algeria  DZ  \n",
       "3  36.887500     DZSKI         Algeria  DZ  \n",
       "4 -14.274167     ASPPG  American Samoa  AS  "
      ]
     },
     "execution_count": 11,
     "metadata": {},
     "output_type": "execute_result"
    }
   ],
   "source": [
    "df.head()\n"
   ]
  }
 ],
 "metadata": {
  "kernelspec": {
   "display_name": "Python 3 (ipykernel)",
   "language": "python",
   "name": "python3"
  },
  "language_info": {
   "codemirror_mode": {
    "name": "ipython",
    "version": 3
   },
   "file_extension": ".py",
   "mimetype": "text/x-python",
   "name": "python",
   "nbconvert_exporter": "python",
   "pygments_lexer": "ipython3",
   "version": "3.11.5"
  }
 },
 "nbformat": 4,
 "nbformat_minor": 5
}
