{
 "cells": [
  {
   "cell_type": "code",
   "execution_count": 1,
   "id": "eb9a1519-3a71-47aa-86e2-da653b4d9326",
   "metadata": {},
   "outputs": [],
   "source": [
    "# import packages\n",
    "import pandas as pd\n",
    "import numpy as np"
   ]
  },
  {
   "cell_type": "code",
   "execution_count": 2,
   "id": "b49c01e9-6e9d-448e-9038-63e901864d00",
   "metadata": {},
   "outputs": [],
   "source": [
    "# import data\n",
    "\n",
    "X_train = pd.read_csv(\"Project_materials/ais_train.csv\", header=None)\n",
    "X_test = pd.read_csv(\"Project_materials/ais_train.csv\", header=None)\n"
   ]
  },
  {
   "cell_type": "code",
   "execution_count": null,
   "id": "5a788d1b-a98f-466b-8f59-9098c06bfe76",
   "metadata": {},
   "outputs": [],
   "source": []
  }
 ],
 "metadata": {
  "kernelspec": {
   "display_name": "Python 3 (ipykernel)",
   "language": "python",
   "name": "python3"
  },
  "language_info": {
   "codemirror_mode": {
    "name": "ipython",
    "version": 3
   },
   "file_extension": ".py",
   "mimetype": "text/x-python",
   "name": "python",
   "nbconvert_exporter": "python",
   "pygments_lexer": "ipython3",
   "version": "3.10.10"
  }
 },
 "nbformat": 4,
 "nbformat_minor": 5
}
