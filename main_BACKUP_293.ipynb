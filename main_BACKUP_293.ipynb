{
 "cells": [
  {
   "cell_type": "code",
   "execution_count": 5,
   "id": "eb9a1519-3a71-47aa-86e2-da653b4d9326",
   "metadata": {},
   "outputs": [],
   "source": [
    "# import packages\n",
    "import pandas as pd\n",
    "import numpy as np\n",
    "import matplotlib.pyplot as plt \n",
    "import seaborn as sns"
   ]
  },
  {
   "cell_type": "code",
   "execution_count": 2,
   "id": "b49c01e9-6e9d-448e-9038-63e901864d00",
   "metadata": {},
   "outputs": [
    {
     "data": {
      "text/html": [
       "<div>\n",
       "<style scoped>\n",
       "    .dataframe tbody tr th:only-of-type {\n",
       "        vertical-align: middle;\n",
       "    }\n",
       "\n",
       "    .dataframe tbody tr th {\n",
       "        vertical-align: top;\n",
       "    }\n",
       "\n",
       "    .dataframe thead th {\n",
       "        text-align: right;\n",
       "    }\n",
       "</style>\n",
       "<table border=\"1\" class=\"dataframe\">\n",
       "  <thead>\n",
       "    <tr style=\"text-align: right;\">\n",
       "      <th></th>\n",
       "      <th>time</th>\n",
       "      <th>cog</th>\n",
       "      <th>sog</th>\n",
       "      <th>rot</th>\n",
       "      <th>heading</th>\n",
       "      <th>navstat</th>\n",
       "      <th>etaRaw</th>\n",
       "      <th>latitude</th>\n",
       "      <th>longitude</th>\n",
       "      <th>vesselId</th>\n",
       "      <th>portId</th>\n",
       "    </tr>\n",
       "  </thead>\n",
       "  <tbody>\n",
       "    <tr>\n",
       "      <th>0</th>\n",
       "      <td>2024-01-01 00:00:25</td>\n",
       "      <td>284.0</td>\n",
       "      <td>0.7</td>\n",
       "      <td>0</td>\n",
       "      <td>88</td>\n",
       "      <td>0</td>\n",
       "      <td>01-09 23:00</td>\n",
       "      <td>-34.74370</td>\n",
       "      <td>-57.85130</td>\n",
       "      <td>61e9f3a8b937134a3c4bfdf7</td>\n",
       "      <td>61d371c43aeaecc07011a37f</td>\n",
       "    </tr>\n",
       "    <tr>\n",
       "      <th>1</th>\n",
       "      <td>2024-01-01 00:00:36</td>\n",
       "      <td>109.6</td>\n",
       "      <td>0.0</td>\n",
       "      <td>-6</td>\n",
       "      <td>347</td>\n",
       "      <td>1</td>\n",
       "      <td>12-29 20:00</td>\n",
       "      <td>8.89440</td>\n",
       "      <td>-79.47939</td>\n",
       "      <td>61e9f3d4b937134a3c4bff1f</td>\n",
       "      <td>634c4de270937fc01c3a7689</td>\n",
       "    </tr>\n",
       "    <tr>\n",
       "      <th>2</th>\n",
       "      <td>2024-01-01 00:01:45</td>\n",
       "      <td>111.0</td>\n",
       "      <td>11.0</td>\n",
       "      <td>0</td>\n",
       "      <td>112</td>\n",
       "      <td>0</td>\n",
       "      <td>01-02 09:00</td>\n",
       "      <td>39.19065</td>\n",
       "      <td>-76.47567</td>\n",
       "      <td>61e9f436b937134a3c4c0131</td>\n",
       "      <td>61d3847bb7b7526e1adf3d19</td>\n",
       "    </tr>\n",
       "    <tr>\n",
       "      <th>3</th>\n",
       "      <td>2024-01-01 00:03:11</td>\n",
       "      <td>96.4</td>\n",
       "      <td>0.0</td>\n",
       "      <td>0</td>\n",
       "      <td>142</td>\n",
       "      <td>1</td>\n",
       "      <td>12-31 20:00</td>\n",
       "      <td>-34.41189</td>\n",
       "      <td>151.02067</td>\n",
       "      <td>61e9f3b4b937134a3c4bfe77</td>\n",
       "      <td>61d36f770a1807568ff9a126</td>\n",
       "    </tr>\n",
       "    <tr>\n",
       "      <th>4</th>\n",
       "      <td>2024-01-01 00:03:51</td>\n",
       "      <td>214.0</td>\n",
       "      <td>19.7</td>\n",
       "      <td>0</td>\n",
       "      <td>215</td>\n",
       "      <td>0</td>\n",
       "      <td>01-25 12:00</td>\n",
       "      <td>35.88379</td>\n",
       "      <td>-5.91636</td>\n",
       "      <td>61e9f41bb937134a3c4c0087</td>\n",
       "      <td>634c4de270937fc01c3a74f3</td>\n",
       "    </tr>\n",
       "  </tbody>\n",
       "</table>\n",
       "</div>"
      ],
      "text/plain": [
       "                  time    cog   sog  rot  heading  navstat       etaRaw  \\\n",
       "0  2024-01-01 00:00:25  284.0   0.7    0       88        0  01-09 23:00   \n",
       "1  2024-01-01 00:00:36  109.6   0.0   -6      347        1  12-29 20:00   \n",
       "2  2024-01-01 00:01:45  111.0  11.0    0      112        0  01-02 09:00   \n",
       "3  2024-01-01 00:03:11   96.4   0.0    0      142        1  12-31 20:00   \n",
       "4  2024-01-01 00:03:51  214.0  19.7    0      215        0  01-25 12:00   \n",
       "\n",
       "   latitude  longitude                  vesselId                    portId  \n",
       "0 -34.74370  -57.85130  61e9f3a8b937134a3c4bfdf7  61d371c43aeaecc07011a37f  \n",
       "1   8.89440  -79.47939  61e9f3d4b937134a3c4bff1f  634c4de270937fc01c3a7689  \n",
       "2  39.19065  -76.47567  61e9f436b937134a3c4c0131  61d3847bb7b7526e1adf3d19  \n",
       "3 -34.41189  151.02067  61e9f3b4b937134a3c4bfe77  61d36f770a1807568ff9a126  \n",
       "4  35.88379   -5.91636  61e9f41bb937134a3c4c0087  634c4de270937fc01c3a74f3  "
      ]
     },
     "execution_count": 2,
     "metadata": {},
     "output_type": "execute_result"
    }
   ],
   "source": [
    "# import data\n",
    "<<<<<<< local\n",
    "\n",
    "X_train = pd.read_csv(\"Project_materials/ais_train.csv\", delimiter='|')\n",
    "X_test = pd.read_csv(\"Project_materials/ais_test.csv\", delimiter='|')\n",
    "vessels = pd.read_csv(\"Project_materials/vessels.csv\", delimiter='|')\n",
    "ports = pd.read_csv(\"Project_materials/ports.csv\", delimiter='|')\n",
    "schedules = pd.read_csv(\"Project_materials/schedules_to_may_2024.csv\", delimiter='|')\n",
    "=======\n",
    "X_train = pd.read_csv(\"Project_materials/ais_train.csv\", delimiter='|')\n",
    "X_test = pd.read_csv(\"Project_materials/ais_train.csv\", delimiter='|')\n",
    "X_train.head()\n",
    ">>>>>>> remote"
   ]
  },
  {
   "cell_type": "code",
   "execution_count": 3,
   "id": "0066e197-5eac-44ba-a854-f640c3696e89",
   "metadata": {},
   "outputs": [
    {
     "name": "stdout",
     "output_type": "stream",
     "text": [
      "405\n"
     ]
    },
    {
     "data": {
      "text/plain": [
       "(1522065, 11)"
      ]
     },
     "execution_count": 3,
     "metadata": {},
     "output_type": "execute_result"
    }
   ],
   "source": [
    "df=X_train.copy()\n",
    "# 2. sog\n",
    "# many of these have value 0, like half of the observations, while very few (only 405) have value above 100\n",
    "# none have value 1023 -> no missing values!\n",
    "print(df[df.sog>=100].sog.count())\n",
    "df.shape\n",
    "#df.head()"
   ]
  },
  {
   "cell_type": "code",
   "execution_count": 4,
   "id": "5103e156-0f61-4988-ba5f-9194f836dc4a",
   "metadata": {},
   "outputs": [
    {
     "name": "stdout",
     "output_type": "stream",
     "text": [
      "4895\n",
      "0\n"
     ]
    }
   ],
   "source": [
    "# 4. heading\n",
    "print(df[df.heading==511].heading.count())\n",
    "# df[df.heading=511].heading didn't work, creates a copy of the dataframe, not the dataframe itself\n",
    "# 4895 missing values\n",
    "df.loc[df.heading==511, \"heading\"]=np.nan\n",
    "print(df[df.heading==511].heading.count())"
   ]
  },
  {
   "cell_type": "code",
   "execution_count": 5,
   "id": "27eea1cb-fd34-4baa-9750-77327bf33656",
   "metadata": {},
   "outputs": [
    {
     "data": {
      "text/plain": [
       "0    01-09 23:00\n",
       "1    12-29 20:00\n",
       "2    01-02 09:00\n",
       "3    12-31 20:00\n",
       "4    01-25 12:00\n",
       "Name: etaRaw, dtype: object"
      ]
     },
     "execution_count": 5,
     "metadata": {},
     "output_type": "execute_result"
    }
   ],
   "source": [
    "# 6. etaraw\n",
    "df.etaRaw.head()\n",
    "# dates and times, won't touch it for now"
   ]
  },
  {
   "cell_type": "code",
   "execution_count": 6,
   "id": "67e59704-f360-4476-99d3-21e604d8c5d1",
   "metadata": {},
   "outputs": [
    {
     "data": {
      "text/plain": [
       "0"
      ]
     },
     "execution_count": 6,
     "metadata": {},
     "output_type": "execute_result"
    }
   ],
   "source": [
    "# 8. longitude\n",
    "# no missing values\n",
    "df[df.longitude==181].longitude.count()"
   ]
  },
  {
   "cell_type": "code",
   "execution_count": 13,
   "id": "549648b2-26fc-479e-8880-a5a5617bba61",
   "metadata": {},
   "outputs": [
    {
     "name": "stdout",
     "output_type": "stream",
     "text": [
      "1615\n",
      "772\n",
      "                        time    cog   sog  rot  heading  navstat       etaRaw  \\\n",
      "33       2024-01-01 00:13:51  257.0   0.0    0    257.0        5  12-31 05:00   \n",
      "195      2024-01-01 00:35:00  257.0   0.0    0    257.0        5  12-31 05:00   \n",
      "359      2024-01-01 00:56:08  257.0   0.0    0    257.0        5  12-31 05:00   \n",
      "523      2024-01-01 01:17:20  256.0   0.0    0    256.0        5  12-31 05:00   \n",
      "608      2024-01-01 01:35:27  256.0   0.0    0    256.0        5  12-31 05:00   \n",
      "...                      ...    ...   ...  ...      ...      ...          ...   \n",
      "1279313  2024-04-18 00:36:16  145.6   0.0   -5     18.0        5  04-17 19:00   \n",
      "1279505  2024-04-18 00:57:15  265.0   0.0   -5     18.0        5  04-17 19:00   \n",
      "1279611  2024-04-18 01:15:16  200.2   0.0    0     18.0        5  04-17 19:00   \n",
      "1429638  2024-04-30 06:56:35  117.6   7.6  127    119.0        0  04-29 19:50   \n",
      "1429829  2024-04-30 07:17:55  175.3  12.4  127    178.0        0  04-29 19:50   \n",
      "\n",
      "         latitude  longitude                   vesselId portId  \n",
      "33       51.34443    3.22002  clh6aqawa0006gh0zje911dl3    NaN  \n",
      "195      51.34443    3.22000  clh6aqawa0006gh0zje911dl3    NaN  \n",
      "359      51.34443    3.22001  clh6aqawa0006gh0zje911dl3    NaN  \n",
      "523      51.34442    3.22000  clh6aqawa0006gh0zje911dl3    NaN  \n",
      "608      51.34442    3.22000  clh6aqawa0006gh0zje911dl3    NaN  \n",
      "...           ...        ...                        ...    ...  \n",
      "1279313  53.94311   10.86149   61e9f465b937134a3c4c0269    NaN  \n",
      "1279505  53.94312   10.86149   61e9f465b937134a3c4c0269    NaN  \n",
      "1279611  53.94312   10.86149   61e9f465b937134a3c4c0269    NaN  \n",
      "1429638  34.69830  135.29398   61e9f393b937134a3c4bfd9d    NaN  \n",
      "1429829  34.64212  135.31899   61e9f393b937134a3c4bfd9d    NaN  \n",
      "\n",
      "[1615 rows x 11 columns]\n"
     ]
    }
   ],
   "source": [
    "# 10 portId\n",
    "# 1615 missing values values, not sure why, not even sure what form they have\n",
    "print(df.shape[0]-df.portId.count())\n",
    "# 772 unique values, unique ports\n",
    "print(df.portId.nunique())\n",
    "null_values=df[df[\"portId\"].isnull()]\n",
    "print(null_values)\n",
    "#it's good that I found the values at least lol"
   ]
  },
  {
   "cell_type": "code",
   "execution_count": 7,
   "id": "7d129454-41cf-43b9-88de-33facabddc4d",
   "metadata": {},
   "outputs": [],
   "source": [
    "ports=pd.read_csv(\"Project_materials/ports.csv\", delimiter='|')\n",
    "df=ports.copy()"
   ]
  },
  {
   "cell_type": "code",
   "execution_count": 11,
   "id": "79fa6cb5-85be-4cf2-8ceb-e29017371473",
   "metadata": {},
   "outputs": [
    {
     "data": {
      "text/html": [
       "<div>\n",
       "<style scoped>\n",
       "    .dataframe tbody tr th:only-of-type {\n",
       "        vertical-align: middle;\n",
       "    }\n",
       "\n",
       "    .dataframe tbody tr th {\n",
       "        vertical-align: top;\n",
       "    }\n",
       "\n",
       "    .dataframe thead th {\n",
       "        text-align: right;\n",
       "    }\n",
       "</style>\n",
       "<table border=\"1\" class=\"dataframe\">\n",
       "  <thead>\n",
       "    <tr style=\"text-align: right;\">\n",
       "      <th></th>\n",
       "      <th>portId</th>\n",
       "      <th>name</th>\n",
       "      <th>portLocation</th>\n",
       "      <th>longitude</th>\n",
       "      <th>latitude</th>\n",
       "      <th>UN_LOCODE</th>\n",
       "      <th>countryName</th>\n",
       "      <th>ISO</th>\n",
       "    </tr>\n",
       "  </thead>\n",
       "  <tbody>\n",
       "    <tr>\n",
       "      <th>0</th>\n",
       "      <td>61d36ed80a1807568ff9a064</td>\n",
       "      <td>Port of Algiers</td>\n",
       "      <td>Algiers</td>\n",
       "      <td>3.067222</td>\n",
       "      <td>36.773611</td>\n",
       "      <td>DZALG</td>\n",
       "      <td>Algeria</td>\n",
       "      <td>DZ</td>\n",
       "    </tr>\n",
       "    <tr>\n",
       "      <th>1</th>\n",
       "      <td>61d36ed80a1807568ff9a065</td>\n",
       "      <td>Port of Annaba</td>\n",
       "      <td>Annaba</td>\n",
       "      <td>7.772500</td>\n",
       "      <td>36.900556</td>\n",
       "      <td>DZAAE</td>\n",
       "      <td>Algeria</td>\n",
       "      <td>DZ</td>\n",
       "    </tr>\n",
       "    <tr>\n",
       "      <th>2</th>\n",
       "      <td>61d36edf0a1807568ff9a070</td>\n",
       "      <td>Port of Oran</td>\n",
       "      <td>Oran</td>\n",
       "      <td>-0.639722</td>\n",
       "      <td>35.712222</td>\n",
       "      <td>DZORN</td>\n",
       "      <td>Algeria</td>\n",
       "      <td>DZ</td>\n",
       "    </tr>\n",
       "    <tr>\n",
       "      <th>3</th>\n",
       "      <td>61d36ee00a1807568ff9a072</td>\n",
       "      <td>Port of Skikda</td>\n",
       "      <td>Skikda</td>\n",
       "      <td>6.905833</td>\n",
       "      <td>36.887500</td>\n",
       "      <td>DZSKI</td>\n",
       "      <td>Algeria</td>\n",
       "      <td>DZ</td>\n",
       "    </tr>\n",
       "    <tr>\n",
       "      <th>4</th>\n",
       "      <td>61d36ee10a1807568ff9a074</td>\n",
       "      <td>Port of Pago-Pago</td>\n",
       "      <td>Pago-Pago</td>\n",
       "      <td>-170.690556</td>\n",
       "      <td>-14.274167</td>\n",
       "      <td>ASPPG</td>\n",
       "      <td>American Samoa</td>\n",
       "      <td>AS</td>\n",
       "    </tr>\n",
       "  </tbody>\n",
       "</table>\n",
       "</div>"
      ],
      "text/plain": [
       "                     portId               name portLocation   longitude  \\\n",
       "0  61d36ed80a1807568ff9a064    Port of Algiers      Algiers    3.067222   \n",
       "1  61d36ed80a1807568ff9a065     Port of Annaba       Annaba    7.772500   \n",
       "2  61d36edf0a1807568ff9a070       Port of Oran         Oran   -0.639722   \n",
       "3  61d36ee00a1807568ff9a072     Port of Skikda       Skikda    6.905833   \n",
       "4  61d36ee10a1807568ff9a074  Port of Pago-Pago    Pago-Pago -170.690556   \n",
       "\n",
       "    latitude UN_LOCODE     countryName ISO  \n",
       "0  36.773611     DZALG         Algeria  DZ  \n",
       "1  36.900556     DZAAE         Algeria  DZ  \n",
       "2  35.712222     DZORN         Algeria  DZ  \n",
       "3  36.887500     DZSKI         Algeria  DZ  \n",
       "4 -14.274167     ASPPG  American Samoa  AS  "
      ]
     },
     "execution_count": 11,
     "metadata": {},
     "output_type": "execute_result"
    }
   ],
   "source": [
    "df.head()\n"
   ]
  },
  {
   "cell_type": "code",
   "execution_count": 3,
   "id": "5a788d1b-a98f-466b-8f59-9098c06bfe76",
   "metadata": {},
   "outputs": [
    {
     "data": {
      "text/html": [
       "<div>\n",
       "<style scoped>\n",
       "    .dataframe tbody tr th:only-of-type {\n",
       "        vertical-align: middle;\n",
       "    }\n",
       "\n",
       "    .dataframe tbody tr th {\n",
       "        vertical-align: top;\n",
       "    }\n",
       "\n",
       "    .dataframe thead th {\n",
       "        text-align: right;\n",
       "    }\n",
       "</style>\n",
       "<table border=\"1\" class=\"dataframe\">\n",
       "  <thead>\n",
       "    <tr style=\"text-align: right;\">\n",
       "      <th></th>\n",
       "      <th>time</th>\n",
       "      <th>cog</th>\n",
       "      <th>sog</th>\n",
       "      <th>rot</th>\n",
       "      <th>heading</th>\n",
       "      <th>navstat</th>\n",
       "      <th>etaRaw</th>\n",
       "      <th>latitude</th>\n",
       "      <th>longitude</th>\n",
       "      <th>vesselId</th>\n",
       "      <th>portId</th>\n",
       "    </tr>\n",
       "  </thead>\n",
       "  <tbody>\n",
       "    <tr>\n",
       "      <th>0</th>\n",
       "      <td>2024-01-01 00:00:25</td>\n",
       "      <td>284.0</td>\n",
       "      <td>0.7</td>\n",
       "      <td>0</td>\n",
       "      <td>88</td>\n",
       "      <td>0</td>\n",
       "      <td>01-09 23:00</td>\n",
       "      <td>-34.74370</td>\n",
       "      <td>-57.85130</td>\n",
       "      <td>61e9f3a8b937134a3c4bfdf7</td>\n",
       "      <td>61d371c43aeaecc07011a37f</td>\n",
       "    </tr>\n",
       "    <tr>\n",
       "      <th>1</th>\n",
       "      <td>2024-01-01 00:00:36</td>\n",
       "      <td>109.6</td>\n",
       "      <td>0.0</td>\n",
       "      <td>-6</td>\n",
       "      <td>347</td>\n",
       "      <td>1</td>\n",
       "      <td>12-29 20:00</td>\n",
       "      <td>8.89440</td>\n",
       "      <td>-79.47939</td>\n",
       "      <td>61e9f3d4b937134a3c4bff1f</td>\n",
       "      <td>634c4de270937fc01c3a7689</td>\n",
       "    </tr>\n",
       "    <tr>\n",
       "      <th>2</th>\n",
       "      <td>2024-01-01 00:01:45</td>\n",
       "      <td>111.0</td>\n",
       "      <td>11.0</td>\n",
       "      <td>0</td>\n",
       "      <td>112</td>\n",
       "      <td>0</td>\n",
       "      <td>01-02 09:00</td>\n",
       "      <td>39.19065</td>\n",
       "      <td>-76.47567</td>\n",
       "      <td>61e9f436b937134a3c4c0131</td>\n",
       "      <td>61d3847bb7b7526e1adf3d19</td>\n",
       "    </tr>\n",
       "    <tr>\n",
       "      <th>3</th>\n",
       "      <td>2024-01-01 00:03:11</td>\n",
       "      <td>96.4</td>\n",
       "      <td>0.0</td>\n",
       "      <td>0</td>\n",
       "      <td>142</td>\n",
       "      <td>1</td>\n",
       "      <td>12-31 20:00</td>\n",
       "      <td>-34.41189</td>\n",
       "      <td>151.02067</td>\n",
       "      <td>61e9f3b4b937134a3c4bfe77</td>\n",
       "      <td>61d36f770a1807568ff9a126</td>\n",
       "    </tr>\n",
       "    <tr>\n",
       "      <th>4</th>\n",
       "      <td>2024-01-01 00:03:51</td>\n",
       "      <td>214.0</td>\n",
       "      <td>19.7</td>\n",
       "      <td>0</td>\n",
       "      <td>215</td>\n",
       "      <td>0</td>\n",
       "      <td>01-25 12:00</td>\n",
       "      <td>35.88379</td>\n",
       "      <td>-5.91636</td>\n",
       "      <td>61e9f41bb937134a3c4c0087</td>\n",
       "      <td>634c4de270937fc01c3a74f3</td>\n",
       "    </tr>\n",
       "  </tbody>\n",
       "</table>\n",
       "</div>"
      ],
      "text/plain": [
       "                  time    cog   sog  rot  heading  navstat       etaRaw  \\\n",
       "0  2024-01-01 00:00:25  284.0   0.7    0       88        0  01-09 23:00   \n",
       "1  2024-01-01 00:00:36  109.6   0.0   -6      347        1  12-29 20:00   \n",
       "2  2024-01-01 00:01:45  111.0  11.0    0      112        0  01-02 09:00   \n",
       "3  2024-01-01 00:03:11   96.4   0.0    0      142        1  12-31 20:00   \n",
       "4  2024-01-01 00:03:51  214.0  19.7    0      215        0  01-25 12:00   \n",
       "\n",
       "   latitude  longitude                  vesselId                    portId  \n",
       "0 -34.74370  -57.85130  61e9f3a8b937134a3c4bfdf7  61d371c43aeaecc07011a37f  \n",
       "1   8.89440  -79.47939  61e9f3d4b937134a3c4bff1f  634c4de270937fc01c3a7689  \n",
       "2  39.19065  -76.47567  61e9f436b937134a3c4c0131  61d3847bb7b7526e1adf3d19  \n",
       "3 -34.41189  151.02067  61e9f3b4b937134a3c4bfe77  61d36f770a1807568ff9a126  \n",
       "4  35.88379   -5.91636  61e9f41bb937134a3c4c0087  634c4de270937fc01c3a74f3  "
      ]
     },
     "execution_count": 3,
     "metadata": {},
     "output_type": "execute_result"
    }
   ],
   "source": [
    "<<<<<<< REMOTE CELL DELETED >>>>>>>\n",
    "X_train.head()"
   ]
  },
  {
   "cell_type": "code",
   "execution_count": 4,
   "id": "ceb7f666-e3b5-4d99-bb17-f991481c9fc3",
   "metadata": {},
   "outputs": [
    {
     "data": {
      "image/png": "[encoded data removed]",
      "text/plain": [
       "<Figure size 640x480 with 1 Axes>"
      ]
     },
     "metadata": {},
     "output_type": "display_data"
    },
    {
     "name": "stdout",
     "output_type": "stream",
     "text": [
      "not available (equal to 360):  5858\n",
      "anomalous (greater then 360):  0\n",
      "CONTROL (must be zero):  0\n",
      "CONTROL (must be zero):  0\n"
     ]
    }
   ],
   "source": [
    "#PRE-PROCESSING\n",
    "df = X_train.copy()\n",
    "#COG\n",
    "sns.boxplot(y=X_train['cog'])\n",
    "plt.title('Box Plot of COG')\n",
    "plt.show()\n",
    "\n",
    "cog_not_available = (X_train['cog'] == 360).sum()\n",
    "cog_anomalous = (X_train['cog'] > 360).sum()\n",
    "\n",
    "print(\"not available (equal to 360): \", cog_not_available)\n",
    "print(\"anomalous (greater then 360): \", cog_anomalous)\n",
    "\n",
    "df.loc[df['cog']>=360, 'cog'] = np.nan\n",
    "\n",
    "cog_not_available_df = (df['cog'] == 360).sum()\n",
    "cog_anomalous_df = (df['cog'] > 360).sum()\n",
    "\n",
    "print(\"CONTROL (must be zero): \", cog_not_available_df)\n",
    "print(\"CONTROL (must be zero): \", cog_anomalous_df)\n",
    "\n"
   ]
  },
  {
   "cell_type": "code",
   "execution_count": 5,
   "id": "6a61b986-f2cc-427d-9dc2-309ff6aaba49",
   "metadata": {},
   "outputs": [
    {
     "name": "stdout",
     "output_type": "stream",
     "text": [
      "405\n"
     ]
    },
    {
     "data": {
      "text/plain": [
       "(1522065, 11)"
      ]
     },
     "execution_count": 5,
     "metadata": {},
     "output_type": "execute_result"
    }
   ],
   "source": [
    "df=X_train.copy()\n",
    "# 2. sog\n",
    "# many of these have value 0, like half of the observations, while very few (only 405) have value above 100\n",
    "# none have value 1023 -> no missing values!\n",
    "print(df[df.sog>=100].sog.count())\n",
    "df.shape\n",
    "#df.head()"
   ]
  },
  {
   "cell_type": "code",
   "execution_count": 6,
   "id": "ce4a2397-d2c2-44d7-b06d-3a4abb4a490f",
   "metadata": {},
   "outputs": [
    {
     "data": {
      "image/png": "[encoded data removed]",
      "text/plain": [
       "<Figure size 640x480 with 1 Axes>"
      ]
     },
     "metadata": {},
     "output_type": "display_data"
    },
    {
     "name": "stdout",
     "output_type": "stream",
     "text": [
      "not available (== -128):  0\n",
      "turning right slowly ( == 127):  11339\n",
      "turning left slowly (== -127):  11042\n",
      "CONTROL (must be zero):  0\n",
      "CONTROL (must be zero):  0\n"
     ]
    }
   ],
   "source": [
    "# ROT\n",
    "sns.boxplot(y=X_train['rot'])\n",
    "plt.title('Box Plot of ROT')\n",
    "plt.show()\n",
    "\n",
    "rot_right = (X_train['rot'] == 127).sum()\n",
    "rot_left = (X_train['rot'] == -127).sum()\n",
    "rot_unknown = (X_train['rot'] == -128).sum()\n",
    "\n",
    "print(\"not available (== -128): \", rot_unknown)\n",
    "print(\"turning right slowly ( == 127): \", rot_right)\n",
    "print(\"turning left slowly (== -127): \", rot_left)\n",
    "\n",
    "#new feature: \n",
    "#  - if rot is present the value is zero\n",
    "#  - if rot is not present and it's turning right slowly +1\n",
    "#  - if rot is not present and it's turning left slowly -1\n",
    "\n",
    "\n",
    "df['slow_turn'] = 0\n",
    "df.loc[df['rot']==127, 'slow_turn'] = 1\n",
    "df.loc[df['rot']==-127, 'slow_turn'] = -1\n",
    "\n",
    "# cleaning rot from beforementioned flags\n",
    "df.loc[df['rot']==127, 'rot'] = np.nan\n",
    "df.loc[df['rot']<=-127, 'rot'] = np.nan\n",
    "\n",
    "\n",
    "rot_right_check = (df['rot'] == 127).sum()\n",
    "rot_left_check = (df['rot'] == -127).sum()\n",
    "print(\"CONTROL (must be zero): \", rot_right_check)\n",
    "print(\"CONTROL (must be zero): \", rot_left_check)"
   ]
  },
  {
   "cell_type": "code",
   "execution_count": 7,
   "id": "313e933b-c25c-4788-b572-fffad16900d1",
   "metadata": {},
   "outputs": [
    {
     "name": "stdout",
     "output_type": "stream",
     "text": [
      "4895\n",
      "0\n"
     ]
    }
   ],
   "source": [
    "# 4. heading\n",
    "print(df[df.heading==511].heading.count())\n",
    "# df[df.heading=511].heading didn't work, creates a copy of the dataframe, not the dataframe itself\n",
    "# 4895 missing values\n",
    "df.loc[df.heading==511, \"heading\"]=np.nan\n",
    "print(df[df.heading==511].heading.count())"
   ]
  },
  {
   "cell_type": "code",
   "execution_count": 8,
   "id": "f5047514-dedd-40ac-9f22-5ef74c88ea65",
   "metadata": {},
   "outputs": [
    {
     "name": "stdout",
     "output_type": "stream",
     "text": [
      "navstat:  5\n",
      "navstat_not_defined:  670\n"
     ]
    },
    {
     "data": {
      "text/plain": [
       "<Axes: xlabel='navstat', ylabel='count'>"
      ]
     },
     "execution_count": 8,
     "metadata": {},
     "output_type": "execute_result"
    },
    {
     "data": {
      "image/png": "[encoded data removed]",
      "text/plain": [
       "<Figure size 640x480 with 1 Axes>"
      ]
     },
     "metadata": {},
     "output_type": "display_data"
    }
   ],
   "source": [
    "# NAVSTAT\n",
    "classes_to_be_removed = df['navstat'].isin([9,10,11,12,13]).sum()\n",
    "print(\"navstat: \", classes_to_be_removed)\n",
    "navstat_not_defined = (X_train['navstat'] == 15).sum()\n",
    "print(\"navstat_not_defined: \", navstat_not_defined)\n",
    "\n",
    "df.loc[df['navstat'].isin([9, 10, 11, 12, 13]), 'navstat'] = np.nan\n",
    "df.loc[df['navstat'] == 15] = np.nan\n",
    "\n",
    "sns.countplot(x='navstat', data=df)\n",
    "\n",
    "#TODO: use iterative imputer here"
   ]
  },
  {
   "cell_type": "code",
   "execution_count": 9,
   "id": "4e83768a-5230-4592-86f4-c781533ab892",
   "metadata": {},
   "outputs": [
    {
     "data": {
      "text/plain": [
       "0    01-09 23:00\n",
       "1    12-29 20:00\n",
       "2    01-02 09:00\n",
       "3    12-31 20:00\n",
       "4    01-25 12:00\n",
       "Name: etaRaw, dtype: object"
      ]
     },
     "execution_count": 9,
     "metadata": {},
     "output_type": "execute_result"
    }
   ],
   "source": [
    "# 6. etaraw\n",
    "df.etaRaw.head()\n",
    "# dates and times, won't touch it for now"
   ]
  },
  {
   "cell_type": "code",
   "execution_count": 10,
   "id": "1b9f9cac-7a50-464b-b22b-c40112ec7834",
   "metadata": {},
   "outputs": [
    {
     "name": "stdout",
     "output_type": "stream",
     "text": [
      "anomalous_latitude:  0\n"
     ]
    }
   ],
   "source": [
    "# latitude\n",
    "anomalous_latitude = (X_train['latitude'] > 90).sum() + (X_train['latitude'] < -90).sum()\n",
    "print(\"anomalous_latitude: \", anomalous_latitude)\n",
    "\n",
    "\n"
   ]
  },
  {
   "cell_type": "code",
   "execution_count": 11,
   "id": "3d8f84d3-fcd1-4ad7-b387-cc4bbcd5ec5f",
   "metadata": {},
   "outputs": [
    {
     "data": {
      "text/plain": [
       "np.int64(0)"
      ]
     },
     "execution_count": 11,
     "metadata": {},
     "output_type": "execute_result"
    }
   ],
   "source": [
    "# 8. longitude\n",
    "# no missing values\n",
    "df[df.longitude==181].longitude.count()"
   ]
  },
  {
   "cell_type": "code",
   "execution_count": 12,
   "id": "b0804177-9faa-4bd2-816f-7b8b64a2dfc2",
   "metadata": {},
   "outputs": [
    {
     "data": {
      "text/plain": [
       "688"
      ]
     },
     "execution_count": 12,
     "metadata": {},
     "output_type": "execute_result"
    }
   ],
   "source": [
    "# vesselid\n",
    "vessels.count()\n",
    "df['vesselId'].nunique()"
   ]
  },
  {
   "cell_type": "code",
   "execution_count": 13,
   "id": "c9f874aa-1e81-4a94-846c-b322a452b587",
   "metadata": {},
   "outputs": [
    {
     "name": "stdout",
     "output_type": "stream",
     "text": [
      "2268\n",
      "772\n",
      "                        time    cog   sog  rot  heading  navstat       etaRaw  \\\n",
      "33       2024-01-01 00:13:51  257.0   0.0  0.0    257.0      5.0  12-31 05:00   \n",
      "195      2024-01-01 00:35:00  257.0   0.0  0.0    257.0      5.0  12-31 05:00   \n",
      "359      2024-01-01 00:56:08  257.0   0.0  0.0    257.0      5.0  12-31 05:00   \n",
      "523      2024-01-01 01:17:20  256.0   0.0  0.0    256.0      5.0  12-31 05:00   \n",
      "608      2024-01-01 01:35:27  256.0   0.0  0.0    256.0      5.0  12-31 05:00   \n",
      "...                      ...    ...   ...  ...      ...      ...          ...   \n",
      "1402826                  NaN    NaN   NaN  NaN      NaN      NaN          NaN   \n",
      "1406705                  NaN    NaN   NaN  NaN      NaN      NaN          NaN   \n",
      "1429638  2024-04-30 06:56:35  117.6   7.6  NaN    119.0      0.0  04-29 19:50   \n",
      "1429829  2024-04-30 07:17:55  175.3  12.4  NaN    178.0      0.0  04-29 19:50   \n",
      "1508421                  NaN    NaN   NaN  NaN      NaN      NaN          NaN   \n",
      "\n",
      "         latitude  longitude                   vesselId portId  slow_turn  \n",
      "33       51.34443    3.22002  clh6aqawa0006gh0zje911dl3    NaN        0.0  \n",
      "195      51.34443    3.22000  clh6aqawa0006gh0zje911dl3    NaN        0.0  \n",
      "359      51.34443    3.22001  clh6aqawa0006gh0zje911dl3    NaN        0.0  \n",
      "523      51.34442    3.22000  clh6aqawa0006gh0zje911dl3    NaN        0.0  \n",
      "608      51.34442    3.22000  clh6aqawa0006gh0zje911dl3    NaN        0.0  \n",
      "...           ...        ...                        ...    ...        ...  \n",
      "1402826       NaN        NaN                        NaN    NaN        NaN  \n",
      "1406705       NaN        NaN                        NaN    NaN        NaN  \n",
      "1429638  34.69830  135.29398   61e9f393b937134a3c4bfd9d    NaN        1.0  \n",
      "1429829  34.64212  135.31899   61e9f393b937134a3c4bfd9d    NaN        1.0  \n",
      "1508421       NaN        NaN                        NaN    NaN        NaN  \n",
      "\n",
      "[2268 rows x 12 columns]\n"
     ]
    },
    {
     "data": {
      "text/html": [
       "<div>\n",
       "<style scoped>\n",
       "    .dataframe tbody tr th:only-of-type {\n",
       "        vertical-align: middle;\n",
       "    }\n",
       "\n",
       "    .dataframe tbody tr th {\n",
       "        vertical-align: top;\n",
       "    }\n",
       "\n",
       "    .dataframe thead th {\n",
       "        text-align: right;\n",
       "    }\n",
       "</style>\n",
       "<table border=\"1\" class=\"dataframe\">\n",
       "  <thead>\n",
       "    <tr style=\"text-align: right;\">\n",
       "      <th></th>\n",
       "      <th>shippingLineId</th>\n",
       "      <th>vesselId</th>\n",
       "      <th>CEU</th>\n",
       "      <th>DWT</th>\n",
       "      <th>GT</th>\n",
       "      <th>NT</th>\n",
       "      <th>vesselType</th>\n",
       "      <th>breadth</th>\n",
       "      <th>depth</th>\n",
       "      <th>draft</th>\n",
       "      <th>enginePower</th>\n",
       "      <th>freshWater</th>\n",
       "      <th>fuel</th>\n",
       "      <th>homePort</th>\n",
       "      <th>length</th>\n",
       "      <th>maxHeight</th>\n",
       "      <th>maxSpeed</th>\n",
       "      <th>maxWidth</th>\n",
       "      <th>rampCapacity</th>\n",
       "      <th>yearBuilt</th>\n",
       "    </tr>\n",
       "  </thead>\n",
       "  <tbody>\n",
       "    <tr>\n",
       "      <th>0</th>\n",
       "      <td>61a8e672f9cba188601e84ab</td>\n",
       "      <td>61e9f38eb937134a3c4bfd8b</td>\n",
       "      <td>6500</td>\n",
       "      <td>21200.0</td>\n",
       "      <td>58684</td>\n",
       "      <td>17606.0</td>\n",
       "      <td>83.0</td>\n",
       "      <td>32.0</td>\n",
       "      <td>22.20</td>\n",
       "      <td>NaN</td>\n",
       "      <td>0.0</td>\n",
       "      <td>NaN</td>\n",
       "      <td>NaN</td>\n",
       "      <td>OSLO</td>\n",
       "      <td>199.00</td>\n",
       "      <td>5.0</td>\n",
       "      <td>18.6</td>\n",
       "      <td>15.2</td>\n",
       "      <td>150.0</td>\n",
       "      <td>2000</td>\n",
       "    </tr>\n",
       "    <tr>\n",
       "      <th>1</th>\n",
       "      <td>61ec94f1a8cafc0e93f0e92a</td>\n",
       "      <td>61e9f38eb937134a3c4bfd8d</td>\n",
       "      <td>4902</td>\n",
       "      <td>12325.0</td>\n",
       "      <td>46800</td>\n",
       "      <td>NaN</td>\n",
       "      <td>83.0</td>\n",
       "      <td>31.0</td>\n",
       "      <td>NaN</td>\n",
       "      <td>NaN</td>\n",
       "      <td>14220.0</td>\n",
       "      <td>NaN</td>\n",
       "      <td>NaN</td>\n",
       "      <td>MONROVIA</td>\n",
       "      <td>182.00</td>\n",
       "      <td>NaN</td>\n",
       "      <td>NaN</td>\n",
       "      <td>NaN</td>\n",
       "      <td>NaN</td>\n",
       "      <td>2006</td>\n",
       "    </tr>\n",
       "    <tr>\n",
       "      <th>2</th>\n",
       "      <td>61e213d5d612676a0f0fb755</td>\n",
       "      <td>61e9f38eb937134a3c4bfd8f</td>\n",
       "      <td>5000</td>\n",
       "      <td>13059.0</td>\n",
       "      <td>46800</td>\n",
       "      <td>NaN</td>\n",
       "      <td>83.0</td>\n",
       "      <td>31.0</td>\n",
       "      <td>NaN</td>\n",
       "      <td>NaN</td>\n",
       "      <td>14220.0</td>\n",
       "      <td>NaN</td>\n",
       "      <td>NaN</td>\n",
       "      <td>SAINT JOHN'S</td>\n",
       "      <td>182.00</td>\n",
       "      <td>NaN</td>\n",
       "      <td>NaN</td>\n",
       "      <td>NaN</td>\n",
       "      <td>NaN</td>\n",
       "      <td>2010</td>\n",
       "    </tr>\n",
       "    <tr>\n",
       "      <th>3</th>\n",
       "      <td>61be24574ea00ae59d0fe388</td>\n",
       "      <td>61e9f38eb937134a3c4bfd91</td>\n",
       "      <td>4200</td>\n",
       "      <td>12588.0</td>\n",
       "      <td>39362</td>\n",
       "      <td>NaN</td>\n",
       "      <td>83.0</td>\n",
       "      <td>28.0</td>\n",
       "      <td>NaN</td>\n",
       "      <td>NaN</td>\n",
       "      <td>11060.0</td>\n",
       "      <td>NaN</td>\n",
       "      <td>NaN</td>\n",
       "      <td>NaN</td>\n",
       "      <td>167.00</td>\n",
       "      <td>NaN</td>\n",
       "      <td>NaN</td>\n",
       "      <td>NaN</td>\n",
       "      <td>NaN</td>\n",
       "      <td>2011</td>\n",
       "    </tr>\n",
       "    <tr>\n",
       "      <th>4</th>\n",
       "      <td>61a8e673f9cba188601e84ae</td>\n",
       "      <td>61e9f390b937134a3c4bfd93</td>\n",
       "      <td>7450</td>\n",
       "      <td>21052.0</td>\n",
       "      <td>75528</td>\n",
       "      <td>24391.0</td>\n",
       "      <td>83.0</td>\n",
       "      <td>37.2</td>\n",
       "      <td>22.23</td>\n",
       "      <td>NaN</td>\n",
       "      <td>13140.0</td>\n",
       "      <td>491.47</td>\n",
       "      <td>3236.78</td>\n",
       "      <td>Panama</td>\n",
       "      <td>199.98</td>\n",
       "      <td>NaN</td>\n",
       "      <td>NaN</td>\n",
       "      <td>NaN</td>\n",
       "      <td>NaN</td>\n",
       "      <td>2018</td>\n",
       "    </tr>\n",
       "  </tbody>\n",
       "</table>\n",
       "</div>"
      ],
      "text/plain": [
       "             shippingLineId                  vesselId   CEU      DWT     GT  \\\n",
       "0  61a8e672f9cba188601e84ab  61e9f38eb937134a3c4bfd8b  6500  21200.0  58684   \n",
       "1  61ec94f1a8cafc0e93f0e92a  61e9f38eb937134a3c4bfd8d  4902  12325.0  46800   \n",
       "2  61e213d5d612676a0f0fb755  61e9f38eb937134a3c4bfd8f  5000  13059.0  46800   \n",
       "3  61be24574ea00ae59d0fe388  61e9f38eb937134a3c4bfd91  4200  12588.0  39362   \n",
       "4  61a8e673f9cba188601e84ae  61e9f390b937134a3c4bfd93  7450  21052.0  75528   \n",
       "\n",
       "        NT  vesselType  breadth  depth  draft  enginePower  freshWater  \\\n",
       "0  17606.0        83.0     32.0  22.20    NaN          0.0         NaN   \n",
       "1      NaN        83.0     31.0    NaN    NaN      14220.0         NaN   \n",
       "2      NaN        83.0     31.0    NaN    NaN      14220.0         NaN   \n",
       "3      NaN        83.0     28.0    NaN    NaN      11060.0         NaN   \n",
       "4  24391.0        83.0     37.2  22.23    NaN      13140.0      491.47   \n",
       "\n",
       "      fuel      homePort  length  maxHeight  maxSpeed  maxWidth  rampCapacity  \\\n",
       "0      NaN          OSLO  199.00        5.0      18.6      15.2         150.0   \n",
       "1      NaN      MONROVIA  182.00        NaN       NaN       NaN           NaN   \n",
       "2      NaN  SAINT JOHN'S  182.00        NaN       NaN       NaN           NaN   \n",
       "3      NaN           NaN  167.00        NaN       NaN       NaN           NaN   \n",
       "4  3236.78        Panama  199.98        NaN       NaN       NaN           NaN   \n",
       "\n",
       "   yearBuilt  \n",
       "0       2000  \n",
       "1       2006  \n",
       "2       2010  \n",
       "3       2011  \n",
       "4       2018  "
      ]
     },
     "execution_count": 13,
     "metadata": {},
     "output_type": "execute_result"
    }
   ],
   "source": [
    "# 10 portId\n",
    "# 1615 missing values values, not sure why, not even sure what form they have\n",
    "print(df.shape[0]-df.portId.count())\n",
    "# 772 unique values, unique ports\n",
    "print(df.portId.nunique())\n",
    "null_values=df[df[\"portId\"].isnull()]\n",
    "print(null_values)\n",
    "#it's good that I found the values at least lol\n",
    "ports=pd.read_csv(\"Project_materials/ports.csv\", delimiter='|')\n",
    "pdf=ports.copy()\n",
    "vessels=pd.read_csv(\"Project_materials/vessels.csv\", delimiter='|')\n",
    "vdf=vessels.copy()\n",
    "pdf.head()\n",
    "vdf.head()\n"
   ]
  },
  {
   "cell_type": "code",
   "execution_count": 14,
   "id": "ec7b4685-0d4f-4a5c-88b1-b1985d10f1a2",
   "metadata": {},
   "outputs": [
    {
     "name": "stdout",
     "output_type": "stream",
     "text": [
      "Index(['time', 'cog', 'sog', 'rot', 'heading', 'navstat', 'etaRaw', 'latitude',\n",
      "       'longitude', 'vesselId', 'portId', 'slow_turn', 'shippingLineId', 'CEU',\n",
      "       'DWT', 'GT', 'NT', 'vesselType', 'breadth', 'depth', 'draft',\n",
      "       'enginePower', 'freshWater', 'fuel', 'homePort', 'length', 'maxHeight',\n",
      "       'maxSpeed', 'maxWidth', 'rampCapacity', 'yearBuilt'],\n",
      "      dtype='object')\n"
     ]
    }
   ],
   "source": [
    "df = pd.merge(df, vessels, on='vesselId', how='left')\n",
    "print(df.columns)"
   ]
  },
  {
   "cell_type": "code",
   "execution_count": 15,
   "id": "9546e56e-d899-402b-a383-dcdb4e032d7e",
   "metadata": {},
   "outputs": [
    {
     "name": "stdout",
     "output_type": "stream",
     "text": [
      "Index(['time', 'cog', 'sog', 'rot', 'heading', 'navstat', 'etaRaw',\n",
      "       'latitude_x', 'longitude_x', 'vesselId', 'portId', 'slow_turn',\n",
      "       'shippingLineId', 'CEU', 'DWT', 'GT', 'NT', 'vesselType', 'breadth',\n",
      "       'depth', 'draft', 'enginePower', 'freshWater', 'fuel', 'homePort',\n",
      "       'length', 'maxHeight', 'maxSpeed', 'maxWidth', 'rampCapacity',\n",
      "       'yearBuilt', 'name', 'portLocation', 'longitude_y', 'latitude_y',\n",
      "       'UN_LOCODE', 'countryName', 'ISO'],\n",
      "      dtype='object')\n"
     ]
    }
   ],
   "source": [
    "#merging all datasets\n",
    "\n",
    "\n",
    "df = pd.merge(df, ports, on='portId', how='left')\n",
    "print(df.columns)\n",
    "\n"
   ]
  },
  {
   "cell_type": "code",
   "execution_count": 16,
   "id": "59142078-9395-4715-b6a7-2ad763bc4453",
   "metadata": {},
   "outputs": [],
   "source": [
    "\n",
    "#print(df.columns)"
   ]
  },
  {
   "cell_type": "code",
   "execution_count": null,
   "id": "88345555-4cb7-4268-ac06-8e0eea2212a4",
   "metadata": {},
   "outputs": [],
   "source": [
    "df = df.T.drop_duplicates().T\n",
    "df = df.drop(columns=['vesselId','portId'])"
   ]
  },
  {
   "cell_type": "code",
   "execution_count": null,
   "id": "2d96ad05-d0a7-4dd8-91bf-67137333bac6",
   "metadata": {},
   "outputs": [],
   "source": [
    "nan_mask = df.isna()\n",
    "plt.figure(figsize=(10, 6)) \n",
    "sns.heatmap(nan_mask, cmap='viridis', cbar=False, yticklabels=False)\n",
    "# Rotate x-axis labels\n",
    "plt.xticks(rotation=45, ha='right', fontsize=10)\n",
    "\n",
    "plt.show()"
   ]
  },
  {
   "cell_type": "code",
   "execution_count": null,
   "id": "83fb3575-faab-4c16-ac4c-c051eac2a8be",
   "metadata": {},
   "outputs": [],
   "source": [
    "df_without_time = df.drop(columns=['time', 'etaRaw', 'shippingLineId', 'name', 'homePort', 'portLocation', 'UN_LOCODE', 'countryName','ISO', 'NT', 'depth', 'draft', 'freshWater', 'fuel', 'maxHeight', 'maxSpeed', 'maxWidth', 'rampCapacity'])\n",
    "df_without_time.head()"
   ]
  },
  {
   "cell_type": "code",
   "execution_count": null,
   "id": "8658d710-8517-4ed0-b294-32dbf215cab4",
   "metadata": {},
   "outputs": [],
   "source": [
    "matrix = df_without_time.corr()\n",
    "\n",
    "plt.imshow(matrix, cmap='Blues')\n",
    "plt.colorbar()\n",
    "variables = []\n",
    "for i in matrix.columns:\n",
    "    variables.append(i)\n",
    "\n",
    "# Adding labels to the matrix\n",
    "plt.xticks(range(len(matrix)), variables, rotation=45, ha='right')\n",
    "plt.yticks(range(len(matrix)), variables)\n",
    "\n",
    "# Display the plot\n",
    "plt.show()"
   ]
  },
  {
   "cell_type": "code",
   "execution_count": null,
   "id": "c4290c0b-7ff6-4913-8848-dfac20292bbb",
   "metadata": {
    "scrolled": true
   },
   "outputs": [],
   "source": [
    "df.head()"
   ]
  },
  {
   "cell_type": "code",
   "execution_count": null,
   "id": "b9f3e62e-8c51-4f23-a9c9-eb20208708ff",
   "metadata": {},
   "outputs": [],
   "source": [
    "vessels.head()"
   ]
  },
  {
   "cell_type": "code",
   "execution_count": null,
   "id": "d26b1957-119d-4e5b-8782-148f8b60e75e",
   "metadata": {},
   "outputs": [],
   "source": []
  }
 ],
 "metadata": {
  "kernelspec": {
   "display_name": "Python 3 (ipykernel)",
   "language": "python",
   "name": "python3"
  },
  "language_info": {
   "codemirror_mode": {
    "name": "ipython",
    "version": 3
   },
   "file_extension": ".py",
   "mimetype": "text/x-python",
   "name": "python",
   "nbconvert_exporter": "python",
   "pygments_lexer": "ipython3",
   "version": "3.11.5"
  }
 },
 "nbformat": 4,
 "nbformat_minor": 5
}
